{
 "cells": [
  {
   "attachments": {},
   "cell_type": "markdown",
   "metadata": {},
   "source": [
    "#### IMPORTING THE LIBRARIES\n",
    "Set the seed for your assignment."
   ]
  },
  {
   "cell_type": "code",
   "execution_count": 28,
   "metadata": {},
   "outputs": [],
   "source": [
    "import numpy as np\n",
    "import matplotlib.pyplot as plt\n",
    "import seaborn as sns\n",
    "import pandas as pd\n",
    "import json\n",
    "np.random.seed(69420)"
   ]
  },
  {
   "attachments": {},
   "cell_type": "markdown",
   "metadata": {},
   "source": [
    "#### Load the dataset from json file \"sample.json\""
   ]
  },
  {
   "cell_type": "code",
   "execution_count": 14,
   "metadata": {},
   "outputs": [
    {
     "data": {
      "text/plain": [
       "[-2.1650633357357782,\n",
       " 0.46997026719926055,\n",
       " -2.042425379682777,\n",
       " 0.15334551509435276,\n",
       " -0.3130846442649702,\n",
       " -0.027544218280206596,\n",
       " -2.1120016203830736,\n",
       " -0.584747114108314,\n",
       " -0.0465017201258212,\n",
       " 0.29424528044727427,\n",
       " -1.6362173648844678,\n",
       " 0.9726107513777661,\n",
       " -0.5396762752493809,\n",
       " -1.3554964781248788,\n",
       " 0.24759829430680635,\n",
       " 0.8274217200516877,\n",
       " 0.9007633110296626,\n",
       " -0.08259396284280977,\n",
       " -0.015109830296047379,\n",
       " -0.3992112427838111,\n",
       " -0.4612437910074453,\n",
       " -0.015870043769993406,\n",
       " -0.8086670371001267,\n",
       " -2.673787388380654,\n",
       " 0.20106573962121388,\n",
       " -1.9053752480809023,\n",
       " 0.9107296001538808,\n",
       " -1.5046786442401674,\n",
       " 0.6112169237973869,\n",
       " -0.1261454054006724,\n",
       " -1.0104680855629913,\n",
       " -0.6871187410869963,\n",
       " -1.5247589389348382,\n",
       " 0.6172366576587718,\n",
       " -0.25198484629864376,\n",
       " 0.6952928217465657,\n",
       " -2.4763432989776857,\n",
       " -0.07635281983913961,\n",
       " -0.3286214397575151,\n",
       " -1.5430517616152561,\n",
       " 0.06168020059381455,\n",
       " 0.47686741925727305,\n",
       " -0.14672273749498363,\n",
       " 0.27131185927765017,\n",
       " -0.67725518689077,\n",
       " 1.2566566523078213,\n",
       " -1.480251144904596,\n",
       " 0.03804992973172356,\n",
       " 0.6031452006260816,\n",
       " 0.645564373118786,\n",
       " 0.5990153256419165,\n",
       " 0.4829181211268783,\n",
       " -0.27352965935954365,\n",
       " 0.6007176502037991,\n",
       " 0.07241005796751966,\n",
       " -0.706270415211087,\n",
       " -0.29892967752603616,\n",
       " -0.08874395535066854,\n",
       " -1.1179830127718726,\n",
       " 1.6459485535774843,\n",
       " 0.14865604734860405,\n",
       " -1.336539027346483,\n",
       " -1.9728723811901052,\n",
       " -0.36318830307406114,\n",
       " -0.07547607050680188,\n",
       " 0.2887861762745092,\n",
       " 0.14577595049542197,\n",
       " -0.239973979056992,\n",
       " -0.4566850728992768,\n",
       " -0.36911747410645446,\n",
       " 0.982281450574417,\n",
       " 0.5832356554416778,\n",
       " 0.9657921594738389,\n",
       " -0.5178859378153305,\n",
       " -0.1305939817237804,\n",
       " -0.1715059060056084,\n",
       " 1.936801360823814,\n",
       " -1.954722322099971,\n",
       " 0.7186265828222337,\n",
       " 0.32583566825828014,\n",
       " 0.07776566118852948,\n",
       " -0.5122060448717279,\n",
       " -0.054657296678673216,\n",
       " -1.1098133173284013,\n",
       " 1.3267631821250503,\n",
       " -0.9960013864781493,\n",
       " -0.5928059262229344,\n",
       " 1.126588172271302,\n",
       " -0.41250409484585887,\n",
       " -0.24030164855446842,\n",
       " -0.5648639201063197,\n",
       " 0.1444582709764161,\n",
       " -1.0237792700244075,\n",
       " 0.46641306259742854,\n",
       " 0.6079924524487962,\n",
       " -0.5903830094939903,\n",
       " 0.22384835988379945,\n",
       " 0.5196074909927298,\n",
       " -1.09358968439255,\n",
       " 1.4198527449922622]"
      ]
     },
     "execution_count": 14,
     "metadata": {},
     "output_type": "execute_result"
    }
   ],
   "source": [
    "with open(\"sample.json\", \"r\") as outfile:\n",
    "    x = json.load(outfile)  \n",
    "data = x['sample']\n",
    "data"
   ]
  },
  {
   "attachments": {},
   "cell_type": "markdown",
   "metadata": {},
   "source": [
    "For simplification we have defined the interval in the range (-5 to 5) and divided it into sizes of 0.001 Assume this as the range for all the gaussians"
   ]
  },
  {
   "cell_type": "code",
   "execution_count": 15,
   "metadata": {},
   "outputs": [],
   "source": [
    "interval = [0.001*i for i in range(-5000,5001)]"
   ]
  },
  {
   "attachments": {},
   "cell_type": "markdown",
   "metadata": {},
   "source": [
    "#### Assume the prior on the mean of the Gaussian distribution to be a Gaussian with $\\mu$' = -1 and $\\sigma'$ = 1\n",
    "Calculate the value of prior on the interval"
   ]
  },
  {
   "cell_type": "code",
   "execution_count": 16,
   "metadata": {},
   "outputs": [],
   "source": [
    "prior = [np.exp(-0.5*np.square(i+1)) for i in interval]"
   ]
  },
  {
   "attachments": {},
   "cell_type": "markdown",
   "metadata": {},
   "source": [
    "##### Find the likelihood value (no need to find the exact value,  you may leave the constants since finally the data of posterior would be normalised) on the interval using the given dataset"
   ]
  },
  {
   "cell_type": "code",
   "execution_count": 23,
   "metadata": {},
   "outputs": [],
   "source": [
    "def gaussian(data, mean, sigma):\n",
    "    i = 1\n",
    "    for j in data:\n",
    "        i*= np.exp(-0.5*np.square((j-mean)/sigma))\n",
    "    return i\n",
    "\n",
    "likelihood = []\n",
    "for i in interval:\n",
    "    likelihood.append(gaussian(data,i,1))"
   ]
  },
  {
   "attachments": {},
   "cell_type": "markdown",
   "metadata": {},
   "source": [
    "#### Calculate the Posterior"
   ]
  },
  {
   "cell_type": "code",
   "execution_count": 24,
   "metadata": {},
   "outputs": [],
   "source": [
    "posterior = np.multiply(likelihood, prior)"
   ]
  },
  {
   "attachments": {},
   "cell_type": "markdown",
   "metadata": {},
   "source": [
    "##### Define an integration function that takes the lists x and y. It computes the integral of y over the range of x. Assume the corresponding values in y as that are in order in x. (Riemann Sum)"
   ]
  },
  {
   "cell_type": "code",
   "execution_count": 26,
   "metadata": {},
   "outputs": [],
   "source": [
    "def integrate(x,y):\n",
    "    integral = 0\n",
    "    for i in range(len(x)-1):\n",
    "        integral += (x[i+1] - x[i]) * y[i]\n",
    "    return integral\n",
    "    pass"
   ]
  },
  {
   "attachments": {},
   "cell_type": "markdown",
   "metadata": {},
   "source": [
    "#### Normalize your posterior by dividing by the integral obtained  "
   ]
  },
  {
   "cell_type": "code",
   "execution_count": 27,
   "metadata": {},
   "outputs": [],
   "source": [
    "posterior = posterior/integrate(interval, posterior)"
   ]
  },
  {
   "attachments": {},
   "cell_type": "markdown",
   "metadata": {},
   "source": [
    "#### Define a function that gives the Mode of the posterior distribution\n",
    "(x Value at which the distribution takes its maximum y value)"
   ]
  },
  {
   "cell_type": "code",
   "execution_count": 30,
   "metadata": {},
   "outputs": [],
   "source": [
    "def Mode(x,y):\n",
    "    return x[pd.Series(y).idxmax()]\n",
    "    pass"
   ]
  },
  {
   "attachments": {},
   "cell_type": "markdown",
   "metadata": {},
   "source": [
    "##### Calculate the Posterior Mode i.e \n",
    "* Mode(interval, posterior) \n",
    "* This is also called MAP.\n",
    "* This value serves a good estimate in various ML estimations."
   ]
  },
  {
   "cell_type": "code",
   "execution_count": 31,
   "metadata": {},
   "outputs": [
    {
     "name": "stdout",
     "output_type": "stream",
     "text": [
      "-0.214\n"
     ]
    }
   ],
   "source": [
    "print(Mode(interval, posterior))"
   ]
  },
  {
   "cell_type": "markdown",
   "metadata": {},
   "source": []
  }
 ],
 "metadata": {
  "kernelspec": {
   "display_name": "Python 3",
   "language": "python",
   "name": "python3"
  },
  "language_info": {
   "codemirror_mode": {
    "name": "ipython",
    "version": 3
   },
   "file_extension": ".py",
   "mimetype": "text/x-python",
   "name": "python",
   "nbconvert_exporter": "python",
   "pygments_lexer": "ipython3",
   "version": "3.8.10 (default, Nov 14 2022, 12:59:47) \n[GCC 9.4.0]"
  },
  "orig_nbformat": 4,
  "vscode": {
   "interpreter": {
    "hash": "916dbcbb3f70747c44a77c7bcd40155683ae19c65e1c03b4aa3499c5328201f1"
   }
  }
 },
 "nbformat": 4,
 "nbformat_minor": 2
}
